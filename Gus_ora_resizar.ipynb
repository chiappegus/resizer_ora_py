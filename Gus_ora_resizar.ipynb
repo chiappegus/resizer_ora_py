{
 "cells": [
  {
   "cell_type": "markdown",
   "metadata": {
    "id": "vBTqKzmjw9VN"
   },
   "source": [
    "## Importar librerías"
   ]
  },
  {
   "cell_type": "code",
   "execution_count": 2,
   "metadata": {
    "collapsed": true,
    "id": "JMAePVe6w1OK",
    "pycharm": {
     "name": "#%%\n"
    }
   },
   "outputs": [],
   "source": [
    "from PIL import Image\n",
    "import os\n",
    "import glob\n"
   ]
  },
  {
   "cell_type": "markdown",
   "metadata": {
    "id": "t4ccb5LjxAce"
   },
   "source": [
    "## Carga de datos"
   ]
  },
  {
   "cell_type": "code",
   "execution_count": 11,
   "metadata": {
    "id": "jy4_xrGEw1OS",
    "pycharm": {
     "name": "#%%\n"
    }
   },
   "outputs": [],
   "source": [
    "\n",
    "def resize_images(input_folder, output_folder, target_size=(541, 368)):\n",
    "    \"\"\"\n",
    "    Redimensiona todas las imágenes en una carpeta\n",
    "    \n",
    "    Args:\n",
    "        input_folder (str): Carpeta de origen\n",
    "        output_folder (str): Carpeta de destino\n",
    "        target_size (tuple): Tamaño objetivo (ancho, alto)\n",
    "    \"\"\"\n",
    "    \n",
    "    # Crear carpeta de salida si no existe\n",
    "    if not os.path.exists(output_folder):\n",
    "        os.makedirs(output_folder)\n",
    "    \n",
    "    # Formatos de imagen soportados\n",
    "    extensions = ('*.jpg', '*.jpeg', '*.png', '*.bmp', '*.tiff', '*.webp')\n",
    "    \n",
    "    for extension in extensions:\n",
    "        # Buscar todas las imágenes con la extensión\n",
    "        for image_path in glob.glob(os.path.join(input_folder, extension)):\n",
    "            try:\n",
    "                # Abrir imagen\n",
    "                with Image.open(image_path) as img:\n",
    "                    # Redimensionar manteniendo relación de aspecto\n",
    "                    img_resized = img.resize(target_size, Image.LANCZOS)\n",
    "                    \n",
    "                    # Guardar imagen redimensionada\n",
    "                    filename = os.path.basename(image_path)\n",
    "                    output_path = os.path.join(output_folder, filename)\n",
    "                    img_resized.save(output_path)\n",
    "                    \n",
    "                    print(f\"Imagen redimensionada: {filename}\")\n",
    "                    \n",
    "            except Exception as e:\n",
    "                print(f\"Error procesando {image_path}: {e}\")"
   ]
  },
  {
   "cell_type": "code",
   "execution_count": 12,
   "metadata": {},
   "outputs": [],
   "source": [
    "# Configuración\n",
    "input_folder = \"origen\"  # Cambiar por tu ruta\n",
    "output_folder = \"destino\"  # Cambiar por tu ruta\n",
    "target_size = (541, 368)  # Tu tamaño objetivo\n"
   ]
  },
  {
   "cell_type": "code",
   "execution_count": null,
   "metadata": {},
   "outputs": [],
   "source": [
    "# Ejecutar\n",
    "resize_images(input_folder, output_folder, target_size)"
   ]
  }
 ],
 "metadata": {
  "colab": {
   "name": "Mi_primera_regresion_logistica.ipynb",
   "provenance": []
  },
  "kernelspec": {
   "display_name": "Python Ora\\BALANCES_GUS_PY  (env)",
   "language": "python",
   "name": "env"
  },
  "language_info": {
   "codemirror_mode": {
    "name": "ipython",
    "version": 3
   },
   "file_extension": ".py",
   "mimetype": "text/x-python",
   "name": "python",
   "nbconvert_exporter": "python",
   "pygments_lexer": "ipython3",
   "version": "3.12.2"
  }
 },
 "nbformat": 4,
 "nbformat_minor": 0
}
